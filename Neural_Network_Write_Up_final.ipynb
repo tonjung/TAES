{
 "cells": [
  {
   "cell_type": "markdown",
   "metadata": {},
   "source": [
    "# Feed Forward Neural Network\n",
    "**Using Neural Networks to predict essay grades using vectorized essays** "
   ]
  },
  {
   "cell_type": "markdown",
   "metadata": {},
   "source": [
    "Neural networks were used to predict the grade of the essay by 90% of the data\n",
    "training and 10% of the data testing. Three layers of the neural network were created\n",
    "with an input layer, two layers on neurons and with an output node. \n",
    "\n",
    "Let's look at the architecture, initialization and cost."
   ]
  },
  {
   "cell_type": "code",
   "execution_count": 1,
   "metadata": {},
   "outputs": [],
   "source": [
    "%%capture\n",
    "from essay2vec import *;"
   ]
  },
  {
   "cell_type": "markdown",
   "metadata": {},
   "source": [
    "**Weight and Bias Variable**\n",
    "\n",
    "This neural network employed a linear summation of biases (b) and a product of weights (W) and\n",
    "data of that layer (x) according to an equation below:\n",
    "\n",
    "Y = W*x + b\n",
    "\n",
    "The weights were initiated as the shape of [previous layer, next layer], assigned to a\n",
    "value of 0.1. These weights were revised while the neural network was trained. The\n",
    "weights were optimized with the increasing epochs number. As a result, the accuracy of\n",
    "the training and response variables testing could be monitored. The biases were\n",
    "initiated as the shape of [next layer]. Similarly, the biases were optimized with the\n",
    "increasing epochs number during the training."
   ]
  },
  {
   "cell_type": "code",
   "execution_count": 2,
   "metadata": {},
   "outputs": [],
   "source": [
    "def weight_variable(shape):\n",
    "    initial = tf.truncated_normal(shape, stddev=0.1)\n",
    "    return tf.Variable(initial)\n",
    "\n",
    "def bias_variable(shape):\n",
    "    initial = tf.zeros(shape)\n",
    "    return tf.Variable(initial)"
   ]
  },
  {
   "cell_type": "markdown",
   "metadata": {},
   "source": [
    "**Neural Network Architecture**\n",
    "\n",
    "A feed-forward neural network architecture was employed. The number of input\n",
    "nodes was the number of training essay features (300). These were fed into a 500 nodes\n",
    "layer, the input of these nodes was activated by a ReLU function, that was obtained\n",
    "from the matrix operation of weights, input nodes, and biases. Then the first layer\n",
    "output was fed into 750 nodes layer, the input was activated by a ReLU function\n",
    "similarly. Finally, the output node created a regression result.\n",
    "The employed loss function in optimization was the Mean Square Error of the\n",
    "predicted score versus the real score. Adam-Optimizer was used to find the best-\n",
    "optimized loss function that trained the model."
   ]
  },
  {
   "cell_type": "code",
   "execution_count": 3,
   "metadata": {},
   "outputs": [],
   "source": [
    "batch_size = 300\n",
    "hidden_nodes_1 = 500\n",
    "hidden_nodes_2 = 750\n",
    "size = testDataVecs.shape[1]\n",
    "\n",
    "graph = tf.Graph()\n",
    "with graph.as_default():\n",
    "\n",
    "    # Input data.\n",
    "    with tf.name_scope(\"Input\"):\n",
    "        tf_train_dataset = tf.placeholder(tf.float32, shape=(batch_size, size))\n",
    "        tf_train_labels = tf.placeholder(tf.float32, shape=(batch_size, 1))\n",
    "    \n",
    "    tf_test_dataset = tf.constant(testDataVecs)\n",
    "      \n",
    "    layer1_weights = weight_variable([size, hidden_nodes_1])\n",
    "    layer1_biases = bias_variable([hidden_nodes_1]) \n",
    "    \n",
    "    layer2_weights = weight_variable([hidden_nodes_1, hidden_nodes_2])\n",
    "    layer2_biases = bias_variable([hidden_nodes_2])\n",
    "    \n",
    "    layer3_weights = weight_variable([hidden_nodes_2, 1])\n",
    "    layer3_biases = bias_variable([1])\n",
    "    \n",
    "    def model(data):\n",
    "        with tf.name_scope(\"Layer_1\"):\n",
    "            layer1 = tf.nn.relu(tf.matmul(data, layer1_weights) + layer1_biases)\n",
    "        \n",
    "        with tf.name_scope(\"Layer_2\"):\n",
    "            \n",
    "            layer2 = tf.nn.relu(tf.matmul(layer1, layer2_weights) + layer2_biases)\n",
    "\n",
    "        with tf.name_scope(\"Layer_3\"):\n",
    "            layer3 = tf.nn.relu(tf.matmul(layer2, layer3_weights) + layer3_biases)\n",
    "        return layer3\n",
    "    \n",
    "    # Training computation.\n",
    "    yhat = model(tf_train_dataset)\n",
    "    \n",
    "    with tf.name_scope(\"Loss\"):\n",
    "        loss = tf.reduce_mean(tf.square(yhat - tf_train_labels))\n",
    "    \n",
    "    # Optimizer.\n",
    "    # learning rate decay\n",
    "    global_step = tf.Variable(0)  # count  number of steps taken.\n",
    "    start_learning_rate = 0.001\n",
    "    learning_rate = tf.train.exponential_decay(start_learning_rate, global_step, 100000, 0.96, staircase=True)\n",
    "    \n",
    "    with tf.name_scope(\"Train\"):\n",
    "        optimizer = tf.train.AdamOptimizer(learning_rate).minimize(loss)\n",
    "    \n",
    "    tf.summary.scalar(\"loss\", loss)\n",
    "    \n",
    "    # Predictions for the training, validation, and test data.\n",
    "    train_prediction = yhat\n",
    "    test_prediction = model(tf_test_dataset)"
   ]
  },
  {
   "cell_type": "markdown",
   "metadata": {},
   "source": [
    "**Training and Testing Prediction**\n",
    "\n",
    "The neural network was then trained on essay batches. The error minimization\n",
    "was used to optimize the learning rate by adjusting the weights and biases of each layer.\n",
    "The accuracy of each epoch was calculated with the spearman correlation at each epoch\n",
    "and lastly, the spearman score for the test set was calculated."
   ]
  },
  {
   "cell_type": "code",
   "execution_count": 4,
   "metadata": {},
   "outputs": [
    {
     "name": "stdout",
     "output_type": "stream",
     "text": [
      "Initialized\n",
      "Minibatch Loss at Epoch 0: 4.203\n",
      "Minibatch Spearman Score: 0.1206\n",
      "Minibatch Loss at Epoch 500: 0.415\n",
      "Minibatch Spearman Score: 0.3273\n",
      "Minibatch Loss at Epoch 1000: 0.355\n",
      "Minibatch Spearman Score: 0.4419\n",
      "Minibatch Loss at Epoch 1500: 0.304\n",
      "Minibatch Spearman Score: 0.4947\n",
      "Minibatch Loss at Epoch 2000: 0.283\n",
      "Minibatch Spearman Score: 0.5844\n",
      "Minibatch Loss at Epoch 2500: 0.293\n",
      "Minibatch Spearman Score: 0.5514\n",
      "Minibatch Loss at Epoch 3000: 0.305\n",
      "Minibatch Spearman Score: 0.5550\n",
      "Test Spearman Score: 0.4837\n"
     ]
    }
   ],
   "source": [
    "test_preds = pd.DataFrame()\n",
    "# Re-define the function to include the keep probability\n",
    "l_array = []\n",
    "start = timeit.timeit()\n",
    "num_epochs = 3001\n",
    "def run_session(num_epochs, name):\n",
    "    with tf.Session(graph=graph) as session:\n",
    "        writer = tf.summary.FileWriter(\"logs/\", session.graph)\n",
    "        tf.initialize_all_variables().run()\n",
    "        print(\"Initialized\")\n",
    "        for epoch in range(num_epochs):\n",
    "            offset = (epoch * batch_size) % (y_train.shape[0] - batch_size)\n",
    "            batch_data = trainDataVecs[offset:(offset + batch_size), :]\n",
    "            batch_labels = y_train[offset:(offset + batch_size)]\n",
    "            feed_dict = {tf_train_dataset : batch_data, tf_train_labels : batch_labels}\n",
    "            _, l, predictions = session.run([optimizer, loss, train_prediction], feed_dict=feed_dict)\n",
    "            l_array.append(l)\n",
    "            if (epoch % 500 == 0):\n",
    "                print(\"Minibatch Loss at Epoch {}: {:.3f}\".format(epoch, l))\n",
    "                rho, pval = (spearmanr(predictions, batch_labels))\n",
    "                print(\"Minibatch Spearman Score: {:.4f}\".format(rho))\n",
    "        final_rho, pval = spearmanr(test_prediction.eval(), y_test)\n",
    "        print(\"Test Spearman Score: {:.4f}\".format(final_rho))\n",
    "        test_preds[name] = test_prediction.eval().ravel()\n",
    "        filesave = np.zeros((len(y_test), 2))\n",
    "        to_use = test_prediction.eval()\n",
    "        \n",
    "        for ii in range(len(y_test)):           \n",
    "            filesave[ii, 0] = y_test[ii]\n",
    "            filesave[ii, 1] = to_use[ii]\n",
    "        \n",
    "        np.savetxt('savetest.txt', filesave, delimiter=\",\", fmt=\"%d\") \n",
    "        \n",
    "run_session(num_epochs, \"Deep_NN\")\n",
    "total = timeit.timeit() - start"
   ]
  },
  {
   "cell_type": "markdown",
   "metadata": {},
   "source": [
    "**Loss vs Epoch**\n",
    "\n",
    "As expected, the loss was minimized while the number of epochs was increased\n",
    "in Figure 1. This implied that the MSE loss function was lowered during the training\n",
    "and the optimal answer was obtained."
   ]
  },
  {
   "cell_type": "code",
   "execution_count": 5,
   "metadata": {},
   "outputs": [
    {
     "data": {
      "image/png": "[encoded data removed]",
      "text/plain": [
       "<Figure size 432x288 with 1 Axes>"
      ]
     },
     "metadata": {},
     "output_type": "display_data"
    }
   ],
   "source": [
    "plt.plot(range(num_epochs), l_array, '.')\n",
    "plt.xlabel(\"epoch\")\n",
    "plt.ylabel(\"cost\")\n",
    "plt.title(\"Cost vs Epoch\")\n",
    "plt.show()"
   ]
  },
  {
   "cell_type": "markdown",
   "metadata": {},
   "source": [
    "**Results**\n",
    "\n",
    "Having tested the Neural Network on 10% of the data and trained on 90% of the data, the Spearman score was 0.4837, with quite low computation time. This means the accuracy of the model is moderate.  More essays were needed, or the topic of the essay should be very specific for more accuracy.  "
   ]
  }
 ],
 "metadata": {
  "anaconda-cloud": {},
  "kernelspec": {
   "display_name": "Python 3",
   "language": "python",
   "name": "python3"
  },
  "language_info": {
   "codemirror_mode": {
    "name": "ipython",
    "version": 3
   },
   "file_extension": ".py",
   "mimetype": "text/x-python",
   "name": "python",
   "nbconvert_exporter": "python",
   "pygments_lexer": "ipython3",
   "version": "3.6.5"
  }
 },
 "nbformat": 4,
 "nbformat_minor": 2
}
