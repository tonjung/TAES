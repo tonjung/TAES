{
 "cells": [
  {
   "cell_type": "markdown",
   "metadata": {},
   "source": [
    "# Classification Methods\n",
    "**Using Classification Methods to predict essay grades using vectorized essays** "
   ]
  },
  {
   "cell_type": "code",
   "execution_count": 1,
   "metadata": {},
   "outputs": [],
   "source": [
    "%%capture\n",
    "from essay2vec import *"
   ]
  },
  {
   "cell_type": "code",
   "execution_count": 2,
   "metadata": {},
   "outputs": [],
   "source": [
    "%%capture\n",
    "from sklearn.linear_model import LogisticRegression\n",
    "from sklearn.discriminant_analysis import LinearDiscriminantAnalysis as LDA\n",
    "from sklearn.discriminant_analysis import QuadraticDiscriminantAnalysis as QDA\n",
    "from sklearn.neighbors import KNeighborsClassifier as KNN\n",
    "from sklearn.tree import DecisionTreeClassifier as DecisionTree\n",
    "from sklearn.ensemble import RandomForestClassifier as RandomForest\n",
    "from sklearn import grid_search\n",
    "from sklearn.svm import SVC\n",
    "from time import time\n",
    "import warnings\n",
    "warnings.filterwarnings(\"ignore\")"
   ]
  },
  {
   "cell_type": "markdown",
   "metadata": {},
   "source": [
    "First, we will look at traditional classification methods and compare the results. Utilizing **sklearn**'s GridSearch method, we will optimize each model's parameters. The **sklearn** models we will be using are:\n",
    "- Logistic Regression\n",
    "- K Nearest Neighbors\n",
    "- Support Vector Machines \n",
    "- Random Forest\n",
    "\n",
    "Since we foresee this algorithm being utilized on a larger scale, it is imperitive that we analyze the computation time when comparing classification methods. The **time** package will be used for this calculation."
   ]
  },
  {
   "cell_type": "code",
   "execution_count": 3,
   "metadata": {},
   "outputs": [],
   "source": [
    "#initialize arrays to store results\n",
    "times = []\n",
    "scores = []\n",
    "labels = []"
   ]
  },
  {
   "cell_type": "markdown",
   "metadata": {},
   "source": [
    "### Logistic Regression"
   ]
  },
  {
   "cell_type": "markdown",
   "metadata": {},
   "source": [
    "While utilizing **sklearn**'s classification methods, many parameters are available to tune our models. To expedite this process, we will use the **GridSearchCV** method. This can be seen below:"
   ]
  },
  {
   "cell_type": "code",
   "execution_count": 4,
   "metadata": {},
   "outputs": [
    {
     "name": "stdout",
     "output_type": "stream",
     "text": [
      "{'class_weight': None, 'penalty': 'l1'}\n"
     ]
    }
   ],
   "source": [
    "#parameter combinations that will be tested\n",
    "parameters = {'class_weight': ['balanced', None], 'penalty': ['l1','l2']}\n",
    "logreg = LogisticRegression()\n",
    "log_grid = grid_search.GridSearchCV(logreg, parameters)\n",
    "log_grid.fit(trainDataVecs, y_train[:,0])\n",
    "print (log_grid.best_params_)"
   ]
  },
  {
   "cell_type": "markdown",
   "metadata": {},
   "source": [
    "Utilizing the calculated parameters, we will conduct our analysis."
   ]
  },
  {
   "cell_type": "code",
   "execution_count": 5,
   "metadata": {},
   "outputs": [],
   "source": [
    "start_lr = time()\n",
    "logreg = LogisticRegression(penalty = 'l1', class_weight = None)\n",
    "logreg.fit(trainDataVecs, y_train[:,0])\n",
    "preds_lr  = logreg.predict(testDataVecs)\n",
    "tot_lr = time() - start_lr\n",
    "\n",
    "scores.append(spearmanr(y_test, preds_lr)[0])\n",
    "times.append(tot_lr)\n",
    "labels.append('Log Reg')"
   ]
  },
  {
   "cell_type": "markdown",
   "metadata": {},
   "source": [
    "Utilizing the same approach above, we will tune the other three classification methods. "
   ]
  },
  {
   "cell_type": "code",
   "execution_count": 6,
   "metadata": {},
   "outputs": [],
   "source": [
    "#K Nearest Neighbors\n",
    "start_knn = time()\n",
    "knn = KNN(n_neighbors = 16)\n",
    "knn.fit(trainDataVecs, y_train[:,0])\n",
    "predsknn = knn.predict(testDataVecs)\n",
    "tot_knn = time() - start_knn\n",
    "\n",
    "scores.append(spearmanr(y_test, predsknn)[0])\n",
    "times.append(tot_knn)\n",
    "labels.append('KNN')"
   ]
  },
  {
   "cell_type": "code",
   "execution_count": 7,
   "metadata": {},
   "outputs": [],
   "source": [
    "#Support Vector Machining\n",
    "start = time()\n",
    "svm = SVC(C = 50, gamma = 0.9)\n",
    "svm.fit(trainDataVecs, y_train[:,0])\n",
    "predictions = svm.predict(testDataVecs)\n",
    "total = time() - start\n",
    "\n",
    "scores.append(spearmanr(y_test, predictions)[0])\n",
    "times.append(total)\n",
    "labels.append('SVM')"
   ]
  },
  {
   "cell_type": "code",
   "execution_count": 8,
   "metadata": {},
   "outputs": [],
   "source": [
    "#Random Forest\n",
    "start_rf = time()\n",
    "rf = RandomForest(n_estimators = 51, max_depth = 14)\n",
    "rf.fit(trainDataVecs, y_train[:,0])\n",
    "preds_rf = rf.predict(testDataVecs)\n",
    "tot_rf = time() - start_rf \n",
    "\n",
    "scores.append(spearmanr(y_test, preds_rf)[0])\n",
    "times.append(tot_rf)\n",
    "labels.append('Random Forest')"
   ]
  },
  {
   "cell_type": "markdown",
   "metadata": {},
   "source": [
    "### Comparison\n",
    "\n",
    "We will look into how each classification method compares with taking Spearman's Correlation and Computation Time into account. "
   ]
  },
  {
   "cell_type": "code",
   "execution_count": 9,
   "metadata": {},
   "outputs": [
    {
     "data": {
      "image/png": "[encoded data removed]",
      "text/plain": [
       "<Figure size 504x504 with 1 Axes>"
      ]
     },
     "metadata": {},
     "output_type": "display_data"
    }
   ],
   "source": [
    "import matplotlib.cm as cm\n",
    "#plot\n",
    "fig = plt.figure(figsize=(7,7))\n",
    "\n",
    "color=iter(cm.rainbow(np.linspace(0,1,4)))\n",
    "for label, x, y, col  in zip(labels, scores, times, color):\n",
    "    plt.scatter(x, y, color=col, s = 50)\n",
    "    plt.grid(color='k')\n",
    "    plt.annotate(\n",
    "    label,\n",
    "    xy = (x, y), xytext = (40, 20),\n",
    "    textcoords = 'offset points', ha = 'center', va = 'center',\n",
    "    bbox = dict(boxstyle = 'round,pad=0.5', fc = 'white', alpha = 0.5),\n",
    "    arrowprops = dict(arrowstyle = '->', connectionstyle = 'arc3,rad=0'))  \n",
    "plt.title('Computation Time Vs. Spearmans Correlation')\n",
    "plt.ylabel('Computation Time (Seconds)')\n",
    "plt.xlabel('Spearmans Correlation')\n",
    "plt.show()"
   ]
  },
  {
   "cell_type": "markdown",
   "metadata": {},
   "source": [
    "Looking at the graph above, we see that Random Forest hovers around 0.40 with KNN, and SVM being errous."
   ]
  }
 ],
 "metadata": {
  "anaconda-cloud": {},
  "kernelspec": {
   "display_name": "Python 3",
   "language": "python",
   "name": "python3"
  },
  "language_info": {
   "codemirror_mode": {
    "name": "ipython",
    "version": 3
   },
   "file_extension": ".py",
   "mimetype": "text/x-python",
   "name": "python",
   "nbconvert_exporter": "python",
   "pygments_lexer": "ipython3",
   "version": "3.6.5"
  }
 },
 "nbformat": 4,
 "nbformat_minor": 1
}
